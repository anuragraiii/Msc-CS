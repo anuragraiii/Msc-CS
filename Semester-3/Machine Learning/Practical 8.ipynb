{
  "nbformat": 4,
  "nbformat_minor": 0,
  "metadata": {
    "colab": {
      "provenance": [],
      "collapsed_sections": []
    },
    "kernelspec": {
      "name": "python3",
      "display_name": "Python 3"
    }
  },
  "cells": [
    {
      "cell_type": "markdown",
      "metadata": {
        "id": "3DR-eO17geWu"
      },
      "source": [
        "# Convolutional Neural Network (Practical 8)"
      ]
    },
    {
      "cell_type": "markdown",
      "metadata": {
        "id": "EMefrVPCg-60"
      },
      "source": [
        "### Importing the libraries"
      ]
    },
    {
      "cell_type": "code",
      "source": [
        "from google.colab import drive\n",
        "drive.mount('/content/drive')"
      ],
      "metadata": {
        "colab": {
          "base_uri": "https://localhost:8080/"
        },
        "id": "VlnI8yV1pBND",
        "outputId": "ef95c94e-db25-453c-e0e0-a5b21d30adbd"
      },
      "execution_count": null,
      "outputs": [
        {
          "output_type": "stream",
          "name": "stdout",
          "text": [
            "Drive already mounted at /content/drive; to attempt to forcibly remount, call drive.mount(\"/content/drive\", force_remount=True).\n"
          ]
        }
      ]
    },
    {
      "cell_type": "code",
      "metadata": {
        "id": "sCV30xyVhFbE"
      },
      "source": [
        "import tensorflow as tf\n",
        "from keras.preprocessing.image import ImageDataGenerator"
      ],
      "execution_count": null,
      "outputs": []
    },
    {
      "cell_type": "code",
      "metadata": {
        "id": "FIleuCAjoFD8",
        "colab": {
          "base_uri": "https://localhost:8080/",
          "height": 38
        },
        "outputId": "eb9de783-5b6a-4738-dfc2-2400407de211"
      },
      "source": [
        "tf.__version__"
      ],
      "execution_count": null,
      "outputs": [
        {
          "output_type": "execute_result",
          "data": {
            "text/plain": [
              "'2.8.2'"
            ],
            "application/vnd.google.colaboratory.intrinsic+json": {
              "type": "string"
            }
          },
          "metadata": {},
          "execution_count": 4
        }
      ]
    },
    {
      "cell_type": "markdown",
      "metadata": {
        "id": "oxQxCBWyoGPE"
      },
      "source": [
        "## Part 1 - Data Preprocessing"
      ]
    },
    {
      "cell_type": "markdown",
      "metadata": {
        "id": "MvE-heJNo3GG"
      },
      "source": [
        "### Preprocessing the Training set"
      ]
    },
    {
      "cell_type": "code",
      "metadata": {
        "id": "0koUcJMJpEBD",
        "colab": {
          "base_uri": "https://localhost:8080/"
        },
        "outputId": "e903afa8-bf51-4011-8b12-7d39536ceb8a"
      },
      "source": [
        "train_datagen = ImageDataGenerator(rescale = 1./255,\n",
        "                                   shear_range = 0.2,\n",
        "                                   zoom_range = 0.2,\n",
        "                                   horizontal_flip = True)\n",
        "training_set = train_datagen.flow_from_directory('/content/drive/MyDrive/small_dataset/training_set',\n",
        "                                                 target_size = (64, 64),\n",
        "                                                 batch_size = 32,\n",
        "                                                 class_mode = 'binary')"
      ],
      "execution_count": null,
      "outputs": [
        {
          "output_type": "stream",
          "name": "stdout",
          "text": [
            "Found 10 images belonging to 2 classes.\n"
          ]
        }
      ]
    },
    {
      "cell_type": "markdown",
      "metadata": {
        "id": "mrCMmGw9pHys"
      },
      "source": [
        "### Preprocessing the Test set"
      ]
    },
    {
      "cell_type": "code",
      "metadata": {
        "id": "SH4WzfOhpKc3",
        "colab": {
          "base_uri": "https://localhost:8080/"
        },
        "outputId": "b3c66869-0404-4566-cc41-4006fe4836b9"
      },
      "source": [
        "test_datagen = ImageDataGenerator(rescale = 1./255)\n",
        "test_set = test_datagen.flow_from_directory('/content/drive/MyDrive/small_dataset/test_set',\n",
        "                                            target_size = (64, 64),\n",
        "                                            batch_size = 32,\n",
        "                                            class_mode = 'binary')"
      ],
      "execution_count": null,
      "outputs": [
        {
          "output_type": "stream",
          "name": "stdout",
          "text": [
            "Found 10 images belonging to 2 classes.\n"
          ]
        }
      ]
    },
    {
      "cell_type": "markdown",
      "metadata": {
        "id": "af8O4l90gk7B"
      },
      "source": [
        "## Part 2 - Building the CNN"
      ]
    },
    {
      "cell_type": "markdown",
      "metadata": {
        "id": "ces1gXY2lmoX"
      },
      "source": [
        "### Initialising the CNN"
      ]
    },
    {
      "cell_type": "code",
      "metadata": {
        "id": "SAUt4UMPlhLS"
      },
      "source": [
        "cnn = tf.keras.models.Sequential()"
      ],
      "execution_count": null,
      "outputs": []
    },
    {
      "cell_type": "markdown",
      "metadata": {
        "id": "u5YJj_XMl5LF"
      },
      "source": [
        "### Step 1 - Convolution"
      ]
    },
    {
      "cell_type": "code",
      "metadata": {
        "id": "XPzPrMckl-hV"
      },
      "source": [
        "cnn.add(tf.keras.layers.Conv2D(filters=32, kernel_size=3, activation='relu', input_shape=[64, 64, 3]))"
      ],
      "execution_count": null,
      "outputs": []
    },
    {
      "cell_type": "markdown",
      "metadata": {
        "id": "tf87FpvxmNOJ"
      },
      "source": [
        "### Step 2 - Pooling"
      ]
    },
    {
      "cell_type": "code",
      "metadata": {
        "id": "ncpqPl69mOac"
      },
      "source": [
        "cnn.add(tf.keras.layers.MaxPool2D(pool_size=2, strides=2))"
      ],
      "execution_count": null,
      "outputs": []
    },
    {
      "cell_type": "markdown",
      "metadata": {
        "id": "xaTOgD8rm4mU"
      },
      "source": [
        "### Adding a second convolutional layer"
      ]
    },
    {
      "cell_type": "code",
      "metadata": {
        "id": "i_-FZjn_m8gk"
      },
      "source": [
        "cnn.add(tf.keras.layers.Conv2D(filters=32, kernel_size=3, activation='relu'))\n",
        "cnn.add(tf.keras.layers.MaxPool2D(pool_size=2, strides=2))"
      ],
      "execution_count": null,
      "outputs": []
    },
    {
      "cell_type": "markdown",
      "metadata": {
        "id": "tmiEuvTunKfk"
      },
      "source": [
        "### Step 3 - Flattening"
      ]
    },
    {
      "cell_type": "code",
      "metadata": {
        "id": "6AZeOGCvnNZn"
      },
      "source": [
        "cnn.add(tf.keras.layers.Flatten())"
      ],
      "execution_count": null,
      "outputs": []
    },
    {
      "cell_type": "markdown",
      "metadata": {
        "id": "dAoSECOm203v"
      },
      "source": [
        "### Step 4 - Full Connection"
      ]
    },
    {
      "cell_type": "code",
      "metadata": {
        "id": "8GtmUlLd26Nq"
      },
      "source": [
        "cnn.add(tf.keras.layers.Dense(units=128, activation='relu'))"
      ],
      "execution_count": null,
      "outputs": []
    },
    {
      "cell_type": "markdown",
      "metadata": {
        "id": "yTldFvbX28Na"
      },
      "source": [
        "### Step 5 - Output Layer"
      ]
    },
    {
      "cell_type": "code",
      "metadata": {
        "id": "1p_Zj1Mc3Ko_"
      },
      "source": [
        "cnn.add(tf.keras.layers.Dense(units=1, activation='sigmoid'))"
      ],
      "execution_count": null,
      "outputs": []
    },
    {
      "cell_type": "markdown",
      "metadata": {
        "id": "D6XkI90snSDl"
      },
      "source": [
        "## Part 3 - Training the CNN"
      ]
    },
    {
      "cell_type": "markdown",
      "metadata": {
        "id": "vfrFQACEnc6i"
      },
      "source": [
        "### Compiling the CNN"
      ]
    },
    {
      "cell_type": "code",
      "metadata": {
        "id": "NALksrNQpUlJ"
      },
      "source": [
        "cnn.compile(optimizer = 'adam', loss = 'binary_crossentropy', metrics = ['accuracy'])"
      ],
      "execution_count": null,
      "outputs": []
    },
    {
      "cell_type": "markdown",
      "metadata": {
        "id": "ehS-v3MIpX2h"
      },
      "source": [
        "### Training the CNN on the Training set and evaluating it on the Test set"
      ]
    },
    {
      "cell_type": "code",
      "metadata": {
        "id": "XUj1W4PJptta",
        "colab": {
          "base_uri": "https://localhost:8080/"
        },
        "outputId": "36fafc62-7d4d-4970-ec28-d71e078033a0"
      },
      "source": [
        "cnn.fit(x = training_set, validation_data = test_set, epochs = 50)"
      ],
      "execution_count": null,
      "outputs": [
        {
          "output_type": "stream",
          "name": "stdout",
          "text": [
            "Epoch 1/50\n",
            "1/1 [==============================] - 5s 5s/step - loss: 0.6895 - accuracy: 0.5000 - val_loss: 0.7049 - val_accuracy: 0.4000\n",
            "Epoch 2/50\n",
            "1/1 [==============================] - 0s 217ms/step - loss: 0.6743 - accuracy: 0.7000 - val_loss: 0.7230 - val_accuracy: 0.5000\n",
            "Epoch 3/50\n",
            "1/1 [==============================] - 0s 217ms/step - loss: 0.6113 - accuracy: 0.6000 - val_loss: 0.7345 - val_accuracy: 0.4000\n",
            "Epoch 4/50\n",
            "1/1 [==============================] - 0s 223ms/step - loss: 0.5911 - accuracy: 0.8000 - val_loss: 0.7638 - val_accuracy: 0.4000\n",
            "Epoch 5/50\n",
            "1/1 [==============================] - 0s 211ms/step - loss: 0.5268 - accuracy: 0.8000 - val_loss: 0.8009 - val_accuracy: 0.3000\n",
            "Epoch 6/50\n",
            "1/1 [==============================] - 0s 214ms/step - loss: 0.4662 - accuracy: 0.9000 - val_loss: 0.8304 - val_accuracy: 0.4000\n",
            "Epoch 7/50\n",
            "1/1 [==============================] - 0s 216ms/step - loss: 0.4262 - accuracy: 0.9000 - val_loss: 0.8731 - val_accuracy: 0.4000\n",
            "Epoch 8/50\n",
            "1/1 [==============================] - 0s 217ms/step - loss: 0.3625 - accuracy: 0.9000 - val_loss: 0.9532 - val_accuracy: 0.4000\n",
            "Epoch 9/50\n",
            "1/1 [==============================] - 0s 216ms/step - loss: 0.4231 - accuracy: 0.9000 - val_loss: 0.9846 - val_accuracy: 0.4000\n",
            "Epoch 10/50\n",
            "1/1 [==============================] - 0s 224ms/step - loss: 0.3852 - accuracy: 0.9000 - val_loss: 1.0504 - val_accuracy: 0.4000\n",
            "Epoch 11/50\n",
            "1/1 [==============================] - 0s 231ms/step - loss: 0.2335 - accuracy: 1.0000 - val_loss: 1.1201 - val_accuracy: 0.4000\n",
            "Epoch 12/50\n",
            "1/1 [==============================] - 0s 218ms/step - loss: 0.2532 - accuracy: 0.9000 - val_loss: 1.2057 - val_accuracy: 0.4000\n",
            "Epoch 13/50\n",
            "1/1 [==============================] - 0s 216ms/step - loss: 0.3169 - accuracy: 0.9000 - val_loss: 1.2934 - val_accuracy: 0.3000\n",
            "Epoch 14/50\n",
            "1/1 [==============================] - 0s 226ms/step - loss: 0.1412 - accuracy: 1.0000 - val_loss: 1.4028 - val_accuracy: 0.3000\n",
            "Epoch 15/50\n",
            "1/1 [==============================] - 0s 216ms/step - loss: 0.2598 - accuracy: 0.9000 - val_loss: 1.5080 - val_accuracy: 0.3000\n",
            "Epoch 16/50\n",
            "1/1 [==============================] - 0s 230ms/step - loss: 0.2152 - accuracy: 0.8000 - val_loss: 1.6261 - val_accuracy: 0.1000\n",
            "Epoch 17/50\n",
            "1/1 [==============================] - 0s 216ms/step - loss: 0.2076 - accuracy: 1.0000 - val_loss: 1.8293 - val_accuracy: 0.2000\n",
            "Epoch 18/50\n",
            "1/1 [==============================] - 0s 229ms/step - loss: 0.1707 - accuracy: 0.9000 - val_loss: 1.8563 - val_accuracy: 0.1000\n",
            "Epoch 19/50\n",
            "1/1 [==============================] - 0s 217ms/step - loss: 0.0839 - accuracy: 1.0000 - val_loss: 1.9833 - val_accuracy: 0.1000\n",
            "Epoch 20/50\n",
            "1/1 [==============================] - 0s 224ms/step - loss: 0.1150 - accuracy: 1.0000 - val_loss: 2.2341 - val_accuracy: 0.1000\n",
            "Epoch 21/50\n",
            "1/1 [==============================] - 0s 222ms/step - loss: 0.0378 - accuracy: 1.0000 - val_loss: 2.6634 - val_accuracy: 0.3000\n",
            "Epoch 22/50\n",
            "1/1 [==============================] - 0s 238ms/step - loss: 0.2087 - accuracy: 0.9000 - val_loss: 2.2902 - val_accuracy: 0.1000\n",
            "Epoch 23/50\n",
            "1/1 [==============================] - 0s 223ms/step - loss: 0.0454 - accuracy: 1.0000 - val_loss: 2.4016 - val_accuracy: 0.3000\n",
            "Epoch 24/50\n",
            "1/1 [==============================] - 0s 220ms/step - loss: 0.3098 - accuracy: 0.8000 - val_loss: 2.5733 - val_accuracy: 0.1000\n",
            "Epoch 25/50\n",
            "1/1 [==============================] - 0s 216ms/step - loss: 0.0393 - accuracy: 1.0000 - val_loss: 3.4228 - val_accuracy: 0.5000\n",
            "Epoch 26/50\n",
            "1/1 [==============================] - 0s 235ms/step - loss: 0.3973 - accuracy: 0.8000 - val_loss: 2.9968 - val_accuracy: 0.4000\n",
            "Epoch 27/50\n",
            "1/1 [==============================] - 0s 223ms/step - loss: 0.1023 - accuracy: 0.9000 - val_loss: 2.4401 - val_accuracy: 0.1000\n",
            "Epoch 28/50\n",
            "1/1 [==============================] - 0s 209ms/step - loss: 0.0104 - accuracy: 1.0000 - val_loss: 2.2396 - val_accuracy: 0.1000\n",
            "Epoch 29/50\n",
            "1/1 [==============================] - 0s 223ms/step - loss: 0.0363 - accuracy: 1.0000 - val_loss: 2.2782 - val_accuracy: 0.3000\n",
            "Epoch 30/50\n",
            "1/1 [==============================] - 0s 230ms/step - loss: 0.0446 - accuracy: 1.0000 - val_loss: 2.3274 - val_accuracy: 0.5000\n",
            "Epoch 31/50\n",
            "1/1 [==============================] - 0s 217ms/step - loss: 0.1313 - accuracy: 1.0000 - val_loss: 2.1624 - val_accuracy: 0.3000\n",
            "Epoch 32/50\n",
            "1/1 [==============================] - 0s 223ms/step - loss: 0.0220 - accuracy: 1.0000 - val_loss: 2.1116 - val_accuracy: 0.1000\n",
            "Epoch 33/50\n",
            "1/1 [==============================] - 0s 226ms/step - loss: 0.0362 - accuracy: 1.0000 - val_loss: 2.1965 - val_accuracy: 0.2000\n",
            "Epoch 34/50\n",
            "1/1 [==============================] - 0s 218ms/step - loss: 0.0315 - accuracy: 1.0000 - val_loss: 2.3665 - val_accuracy: 0.2000\n",
            "Epoch 35/50\n",
            "1/1 [==============================] - 0s 220ms/step - loss: 0.0610 - accuracy: 1.0000 - val_loss: 2.4791 - val_accuracy: 0.4000\n",
            "Epoch 36/50\n",
            "1/1 [==============================] - 0s 206ms/step - loss: 0.1531 - accuracy: 1.0000 - val_loss: 2.2203 - val_accuracy: 0.2000\n",
            "Epoch 37/50\n",
            "1/1 [==============================] - 0s 233ms/step - loss: 0.0314 - accuracy: 1.0000 - val_loss: 2.0344 - val_accuracy: 0.2000\n",
            "Epoch 38/50\n",
            "1/1 [==============================] - 0s 209ms/step - loss: 0.0191 - accuracy: 1.0000 - val_loss: 1.9854 - val_accuracy: 0.3000\n",
            "Epoch 39/50\n",
            "1/1 [==============================] - 0s 214ms/step - loss: 0.0121 - accuracy: 1.0000 - val_loss: 2.0352 - val_accuracy: 0.3000\n",
            "Epoch 40/50\n",
            "1/1 [==============================] - 0s 217ms/step - loss: 0.0930 - accuracy: 1.0000 - val_loss: 2.0274 - val_accuracy: 0.3000\n",
            "Epoch 41/50\n",
            "1/1 [==============================] - 0s 227ms/step - loss: 0.0252 - accuracy: 1.0000 - val_loss: 1.9933 - val_accuracy: 0.3000\n",
            "Epoch 42/50\n",
            "1/1 [==============================] - 0s 215ms/step - loss: 0.0240 - accuracy: 1.0000 - val_loss: 1.9671 - val_accuracy: 0.4000\n",
            "Epoch 43/50\n",
            "1/1 [==============================] - 0s 215ms/step - loss: 0.0349 - accuracy: 1.0000 - val_loss: 1.9799 - val_accuracy: 0.4000\n",
            "Epoch 44/50\n",
            "1/1 [==============================] - 0s 211ms/step - loss: 0.0082 - accuracy: 1.0000 - val_loss: 2.0468 - val_accuracy: 0.2000\n",
            "Epoch 45/50\n",
            "1/1 [==============================] - 0s 227ms/step - loss: 0.0130 - accuracy: 1.0000 - val_loss: 2.1272 - val_accuracy: 0.2000\n",
            "Epoch 46/50\n",
            "1/1 [==============================] - 0s 212ms/step - loss: 0.0076 - accuracy: 1.0000 - val_loss: 2.2088 - val_accuracy: 0.2000\n",
            "Epoch 47/50\n",
            "1/1 [==============================] - 0s 227ms/step - loss: 0.0092 - accuracy: 1.0000 - val_loss: 2.2734 - val_accuracy: 0.2000\n",
            "Epoch 48/50\n",
            "1/1 [==============================] - 0s 217ms/step - loss: 0.0100 - accuracy: 1.0000 - val_loss: 2.3103 - val_accuracy: 0.2000\n",
            "Epoch 49/50\n",
            "1/1 [==============================] - 0s 215ms/step - loss: 0.0210 - accuracy: 1.0000 - val_loss: 2.2686 - val_accuracy: 0.2000\n",
            "Epoch 50/50\n",
            "1/1 [==============================] - 0s 215ms/step - loss: 0.0147 - accuracy: 1.0000 - val_loss: 2.2002 - val_accuracy: 0.2000\n"
          ]
        },
        {
          "output_type": "execute_result",
          "data": {
            "text/plain": [
              "<keras.callbacks.History at 0x7f0750766b90>"
            ]
          },
          "metadata": {},
          "execution_count": 15
        }
      ]
    },
    {
      "cell_type": "markdown",
      "metadata": {
        "id": "U3PZasO0006Z"
      },
      "source": [
        "## Part 4 - Making a single prediction"
      ]
    },
    {
      "cell_type": "code",
      "metadata": {
        "id": "gsSiWEJY1BPB"
      },
      "source": [
        "import numpy as np\n",
        "from keras.preprocessing import image\n",
        "test_image = image.load_img('/content/drive/MyDrive/small_dataset/single_prediction/cat_or_dog_2.jpg', target_size = (64, 64))\n",
        "test_image = image.img_to_array(test_image)\n",
        "test_image = np.expand_dims(test_image, axis = 0)\n",
        "result = cnn.predict(test_image)\n",
        "training_set.class_indices\n",
        "if result[0][0] == 1:\n",
        "  prediction = 'dog'\n",
        "else:\n",
        "  prediction = 'cat'"
      ],
      "execution_count": null,
      "outputs": []
    },
    {
      "cell_type": "code",
      "metadata": {
        "id": "ED9KB3I54c1i",
        "colab": {
          "base_uri": "https://localhost:8080/"
        },
        "outputId": "0cfad7a4-a51b-4cbb-fcf9-ca395f6f0ceb"
      },
      "source": [
        "print(prediction)"
      ],
      "execution_count": null,
      "outputs": [
        {
          "output_type": "stream",
          "name": "stdout",
          "text": [
            "cat\n"
          ]
        }
      ]
    }
  ]
}