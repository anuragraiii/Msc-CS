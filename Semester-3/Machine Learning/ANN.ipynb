{
 "cells": [
  {
   "cell_type": "markdown",
   "id": "ff027692",
   "metadata": {},
   "source": [
    "# <center>Artificial Neural Networks</center>\n",
    "---"
   ]
  },
  {
   "cell_type": "markdown",
   "id": "bcc4e772",
   "metadata": {},
   "source": [
    "### <center>Import required libraries</center>"
   ]
  },
  {
   "cell_type": "code",
   "execution_count": 1,
   "id": "cb5fbcd8",
   "metadata": {},
   "outputs": [],
   "source": [
    "import pandas as pd\n",
    "import numpy as np\n",
    "import tensorflow as tf\n",
    "import tensorflow.keras as keras"
   ]
  },
  {
   "cell_type": "code",
   "execution_count": 2,
   "id": "42aa0088",
   "metadata": {},
   "outputs": [
    {
     "data": {
      "text/plain": [
       "'2.9.1'"
      ]
     },
     "execution_count": 2,
     "metadata": {},
     "output_type": "execute_result"
    }
   ],
   "source": [
    "tf.__version__"
   ]
  },
  {
   "cell_type": "markdown",
   "id": "b4d9548a",
   "metadata": {},
   "source": [
    "## <center>Part I: Data Preprocessing</center>"
   ]
  },
  {
   "cell_type": "markdown",
   "id": "2bdeaeea",
   "metadata": {},
   "source": [
    "### <center>Importing dataset</center>"
   ]
  },
  {
   "cell_type": "code",
   "execution_count": 3,
   "id": "56d267c9",
   "metadata": {},
   "outputs": [],
   "source": [
    "dataset = pd.read_csv(\"datasets/Churn_Modelling.csv\")\n",
    "X = dataset.iloc[ : , 3 : -1].values\n",
    "y = dataset.iloc[ : , -1].values"
   ]
  },
  {
   "cell_type": "code",
   "execution_count": 4,
   "id": "4e7dad49",
   "metadata": {},
   "outputs": [
    {
     "name": "stdout",
     "output_type": "stream",
     "text": [
      "[[619 'France' 'Female' ... 1 1 101348.88]\n",
      " [608 'Spain' 'Female' ... 0 1 112542.58]\n",
      " [502 'France' 'Female' ... 1 0 113931.57]\n",
      " ...\n",
      " [709 'France' 'Female' ... 0 1 42085.58]\n",
      " [772 'Germany' 'Male' ... 1 0 92888.52]\n",
      " [792 'France' 'Female' ... 1 0 38190.78]]\n",
      "\n",
      "[1 0 1 ... 1 1 0]\n"
     ]
    }
   ],
   "source": [
    "print(X, end = \"\\n\\n\")\n",
    "print(y)"
   ]
  },
  {
   "cell_type": "markdown",
   "id": "fbd05a78",
   "metadata": {},
   "source": [
    "### <center>Encoding categorical data</center>"
   ]
  },
  {
   "cell_type": "code",
   "execution_count": 5,
   "id": "9f482683",
   "metadata": {},
   "outputs": [],
   "source": [
    "from sklearn.preprocessing import LabelEncoder\n",
    "\n",
    "le = LabelEncoder()\n",
    "X[ : , 2] = le.fit_transform(X[ : , 2])"
   ]
  },
  {
   "cell_type": "code",
   "execution_count": 6,
   "id": "fea83828",
   "metadata": {},
   "outputs": [
    {
     "name": "stdout",
     "output_type": "stream",
     "text": [
      "[[619 'France' 0 ... 1 1 101348.88]\n",
      " [608 'Spain' 0 ... 0 1 112542.58]\n",
      " [502 'France' 0 ... 1 0 113931.57]\n",
      " ...\n",
      " [709 'France' 0 ... 0 1 42085.58]\n",
      " [772 'Germany' 1 ... 1 0 92888.52]\n",
      " [792 'France' 0 ... 1 0 38190.78]]\n"
     ]
    }
   ],
   "source": [
    "print(X)"
   ]
  },
  {
   "cell_type": "markdown",
   "id": "972b7ae7",
   "metadata": {},
   "source": [
    "### <center>One hot encoding the \"Geography\" column</center>"
   ]
  },
  {
   "cell_type": "code",
   "execution_count": 7,
   "id": "9cb7babd",
   "metadata": {},
   "outputs": [],
   "source": [
    "from sklearn.compose import ColumnTransformer\n",
    "from sklearn.preprocessing import OneHotEncoder\n",
    "\n",
    "ct = ColumnTransformer(transformers = [(\"encoder\", OneHotEncoder(), [1])],\n",
    "                       remainder = \"passthrough\")\n",
    "X = np.array(ct.fit_transform(X))"
   ]
  },
  {
   "cell_type": "code",
   "execution_count": 8,
   "id": "95508726",
   "metadata": {},
   "outputs": [
    {
     "name": "stdout",
     "output_type": "stream",
     "text": [
      "[[1.0 0.0 0.0 ... 1 1 101348.88]\n",
      " [0.0 0.0 1.0 ... 0 1 112542.58]\n",
      " [1.0 0.0 0.0 ... 1 0 113931.57]\n",
      " ...\n",
      " [1.0 0.0 0.0 ... 0 1 42085.58]\n",
      " [0.0 1.0 0.0 ... 1 0 92888.52]\n",
      " [1.0 0.0 0.0 ... 1 0 38190.78]]\n"
     ]
    }
   ],
   "source": [
    "print(X)"
   ]
  },
  {
   "cell_type": "markdown",
   "id": "455fbaf4",
   "metadata": {},
   "source": [
    "### <center>Splitting the dataset into training and testing sets</center>"
   ]
  },
  {
   "cell_type": "code",
   "execution_count": 9,
   "id": "84189a17",
   "metadata": {},
   "outputs": [],
   "source": [
    "from sklearn.model_selection import train_test_split\n",
    "\n",
    "X_train, X_test, y_train, y_test = train_test_split(X, y,\n",
    "                                                    test_size = 0.2,\n",
    "                                                    random_state = 0)"
   ]
  },
  {
   "cell_type": "markdown",
   "id": "9ba578dc",
   "metadata": {},
   "source": [
    "### <center>Feature Scaling</center>"
   ]
  },
  {
   "cell_type": "code",
   "execution_count": 10,
   "id": "bfea9b78",
   "metadata": {},
   "outputs": [],
   "source": [
    "from sklearn.preprocessing import StandardScaler\n",
    "\n",
    "sc = StandardScaler()\n",
    "X_train = sc.fit_transform(X_train)\n",
    "X_test = sc.transform(X_test)"
   ]
  },
  {
   "cell_type": "markdown",
   "id": "7b776a2c",
   "metadata": {},
   "source": [
    "## <center>Part II : Building the Neural Network</center>"
   ]
  },
  {
   "cell_type": "markdown",
   "id": "9f4d1c75",
   "metadata": {},
   "source": [
    "### <center>Initializing the neural network</center>"
   ]
  },
  {
   "cell_type": "code",
   "execution_count": 11,
   "id": "24f14cd9",
   "metadata": {},
   "outputs": [],
   "source": [
    "neural_network = keras.models.Sequential()"
   ]
  },
  {
   "cell_type": "markdown",
   "id": "79117e17",
   "metadata": {},
   "source": [
    "### <center>Add First hidden layer</center>"
   ]
  },
  {
   "cell_type": "code",
   "execution_count": 12,
   "id": "a27272f4",
   "metadata": {},
   "outputs": [],
   "source": [
    "neural_network.add(keras.layers.Dense(units = 6, activation = \"relu\"))"
   ]
  },
  {
   "cell_type": "markdown",
   "id": "09d30505",
   "metadata": {},
   "source": [
    "### <center>Add second hidden layer</center>"
   ]
  },
  {
   "cell_type": "code",
   "execution_count": 13,
   "id": "d375a508",
   "metadata": {},
   "outputs": [],
   "source": [
    "neural_network.add(keras.layers.Dense(units = 6, activation = \"relu\"))"
   ]
  },
  {
   "cell_type": "markdown",
   "id": "362b70a2",
   "metadata": {},
   "source": [
    "### <center>Add output layer</center>"
   ]
  },
  {
   "cell_type": "code",
   "execution_count": 14,
   "id": "2a902e11",
   "metadata": {},
   "outputs": [],
   "source": [
    "neural_network.add(keras.layers.Dense(units = 1, activation = \"sigmoid\"))"
   ]
  },
  {
   "cell_type": "markdown",
   "id": "cb985640",
   "metadata": {},
   "source": [
    "### <center>Compiling the neural network</center>"
   ]
  },
  {
   "cell_type": "code",
   "execution_count": 15,
   "id": "b8028fc4",
   "metadata": {},
   "outputs": [],
   "source": [
    "neural_network.compile(optimizer = \"adam\",\n",
    "                       loss = \"binary_crossentropy\",\n",
    "                       metrics = ['accuracy'])"
   ]
  },
  {
   "cell_type": "markdown",
   "id": "7e3586c3",
   "metadata": {},
   "source": [
    "## <center>Part III: Training the neural network</center>"
   ]
  },
  {
   "cell_type": "markdown",
   "id": "60596e4d",
   "metadata": {},
   "source": [
    "### <center>Training the neural network</center>"
   ]
  },
  {
   "cell_type": "code",
   "execution_count": 16,
   "id": "5dd37951",
   "metadata": {},
   "outputs": [
    {
     "name": "stdout",
     "output_type": "stream",
     "text": [
      "Epoch 1/100\n",
      "250/250 [==============================] - 5s 9ms/step - loss: 0.6141 - accuracy: 0.7032\n",
      "Epoch 2/100\n",
      "250/250 [==============================] - 3s 10ms/step - loss: 0.4843 - accuracy: 0.7968\n",
      "Epoch 3/100\n",
      "250/250 [==============================] - 2s 9ms/step - loss: 0.4436 - accuracy: 0.8046\n",
      "Epoch 4/100\n",
      "250/250 [==============================] - 2s 9ms/step - loss: 0.4265 - accuracy: 0.8106\n",
      "Epoch 5/100\n",
      "250/250 [==============================] - 3s 11ms/step - loss: 0.4170 - accuracy: 0.8181\n",
      "Epoch 6/100\n",
      "250/250 [==============================] - 3s 10ms/step - loss: 0.4081 - accuracy: 0.8220\n",
      "Epoch 7/100\n",
      "250/250 [==============================] - 2s 10ms/step - loss: 0.3996 - accuracy: 0.8291\n",
      "Epoch 8/100\n",
      "250/250 [==============================] - 2s 10ms/step - loss: 0.3917 - accuracy: 0.8361\n",
      "Epoch 9/100\n",
      "250/250 [==============================] - 2s 9ms/step - loss: 0.3838 - accuracy: 0.8419\n",
      "Epoch 10/100\n",
      "250/250 [==============================] - 3s 10ms/step - loss: 0.3764 - accuracy: 0.8447\n",
      "Epoch 11/100\n",
      "250/250 [==============================] - 2s 9ms/step - loss: 0.3694 - accuracy: 0.8480\n",
      "Epoch 12/100\n",
      "250/250 [==============================] - 2s 10ms/step - loss: 0.3636 - accuracy: 0.8505\n",
      "Epoch 13/100\n",
      "250/250 [==============================] - 2s 9ms/step - loss: 0.3600 - accuracy: 0.8525\n",
      "Epoch 14/100\n",
      "250/250 [==============================] - 2s 9ms/step - loss: 0.3566 - accuracy: 0.8561\n",
      "Epoch 15/100\n",
      "250/250 [==============================] - 5s 19ms/step - loss: 0.3538 - accuracy: 0.8572\n",
      "Epoch 16/100\n",
      "250/250 [==============================] - 3s 11ms/step - loss: 0.3522 - accuracy: 0.8589\n",
      "Epoch 17/100\n",
      "250/250 [==============================] - 3s 10ms/step - loss: 0.3503 - accuracy: 0.8580\n",
      "Epoch 18/100\n",
      "250/250 [==============================] - 4s 17ms/step - loss: 0.3490 - accuracy: 0.8584\n",
      "Epoch 19/100\n",
      "250/250 [==============================] - 4s 14ms/step - loss: 0.3478 - accuracy: 0.8601\n",
      "Epoch 20/100\n",
      "250/250 [==============================] - 3s 11ms/step - loss: 0.3465 - accuracy: 0.8605\n",
      "Epoch 21/100\n",
      "250/250 [==============================] - 3s 11ms/step - loss: 0.3460 - accuracy: 0.8596\n",
      "Epoch 22/100\n",
      "250/250 [==============================] - 3s 13ms/step - loss: 0.3453 - accuracy: 0.8612\n",
      "Epoch 23/100\n",
      "250/250 [==============================] - 3s 12ms/step - loss: 0.3448 - accuracy: 0.8609\n",
      "Epoch 24/100\n",
      "250/250 [==============================] - 3s 10ms/step - loss: 0.3442 - accuracy: 0.8622\n",
      "Epoch 25/100\n",
      "250/250 [==============================] - 3s 10ms/step - loss: 0.3431 - accuracy: 0.8624\n",
      "Epoch 26/100\n",
      "250/250 [==============================] - 3s 12ms/step - loss: 0.3431 - accuracy: 0.8621\n",
      "Epoch 27/100\n",
      "250/250 [==============================] - 3s 12ms/step - loss: 0.3423 - accuracy: 0.8619\n",
      "Epoch 28/100\n",
      "250/250 [==============================] - 2s 9ms/step - loss: 0.3420 - accuracy: 0.8620\n",
      "Epoch 29/100\n",
      "250/250 [==============================] - 3s 10ms/step - loss: 0.3416 - accuracy: 0.8601\n",
      "Epoch 30/100\n",
      "250/250 [==============================] - 2s 9ms/step - loss: 0.3407 - accuracy: 0.8634\n",
      "Epoch 31/100\n",
      "250/250 [==============================] - 2s 9ms/step - loss: 0.3409 - accuracy: 0.8616\n",
      "Epoch 32/100\n",
      "250/250 [==============================] - 2s 9ms/step - loss: 0.3406 - accuracy: 0.8621\n",
      "Epoch 33/100\n",
      "250/250 [==============================] - 2s 9ms/step - loss: 0.3400 - accuracy: 0.8627\n",
      "Epoch 34/100\n",
      "250/250 [==============================] - 2s 9ms/step - loss: 0.3400 - accuracy: 0.8629\n",
      "Epoch 35/100\n",
      "250/250 [==============================] - 3s 11ms/step - loss: 0.3396 - accuracy: 0.8644\n",
      "Epoch 36/100\n",
      "250/250 [==============================] - 3s 10ms/step - loss: 0.3389 - accuracy: 0.8640\n",
      "Epoch 37/100\n",
      "250/250 [==============================] - 2s 9ms/step - loss: 0.3389 - accuracy: 0.8618\n",
      "Epoch 38/100\n",
      "250/250 [==============================] - 2s 9ms/step - loss: 0.3389 - accuracy: 0.8637\n",
      "Epoch 39/100\n",
      "250/250 [==============================] - 2s 9ms/step - loss: 0.3391 - accuracy: 0.8630\n",
      "Epoch 40/100\n",
      "250/250 [==============================] - 2s 8ms/step - loss: 0.3381 - accuracy: 0.8633\n",
      "Epoch 41/100\n",
      "250/250 [==============================] - 2s 9ms/step - loss: 0.3383 - accuracy: 0.8644\n",
      "Epoch 42/100\n",
      "250/250 [==============================] - 2s 9ms/step - loss: 0.3376 - accuracy: 0.8629\n",
      "Epoch 43/100\n",
      "250/250 [==============================] - 2s 9ms/step - loss: 0.3378 - accuracy: 0.8640\n",
      "Epoch 44/100\n",
      "250/250 [==============================] - 2s 9ms/step - loss: 0.3373 - accuracy: 0.8639\n",
      "Epoch 45/100\n",
      "250/250 [==============================] - 2s 8ms/step - loss: 0.3379 - accuracy: 0.8627\n",
      "Epoch 46/100\n",
      "250/250 [==============================] - 2s 9ms/step - loss: 0.3373 - accuracy: 0.8633\n",
      "Epoch 47/100\n",
      "250/250 [==============================] - 2s 9ms/step - loss: 0.3373 - accuracy: 0.8637\n",
      "Epoch 48/100\n",
      "250/250 [==============================] - 2s 9ms/step - loss: 0.3371 - accuracy: 0.8650\n",
      "Epoch 49/100\n",
      "250/250 [==============================] - 2s 8ms/step - loss: 0.3370 - accuracy: 0.8640\n",
      "Epoch 50/100\n",
      "250/250 [==============================] - 3s 12ms/step - loss: 0.3369 - accuracy: 0.8644\n",
      "Epoch 51/100\n",
      "250/250 [==============================] - 3s 11ms/step - loss: 0.3368 - accuracy: 0.8633\n",
      "Epoch 52/100\n",
      "250/250 [==============================] - 2s 10ms/step - loss: 0.3369 - accuracy: 0.8630\n",
      "Epoch 53/100\n",
      "250/250 [==============================] - 2s 9ms/step - loss: 0.3366 - accuracy: 0.8626\n",
      "Epoch 54/100\n",
      "250/250 [==============================] - 2s 9ms/step - loss: 0.3364 - accuracy: 0.8618\n",
      "Epoch 55/100\n",
      "250/250 [==============================] - 3s 11ms/step - loss: 0.3362 - accuracy: 0.8635\n",
      "Epoch 56/100\n",
      "250/250 [==============================] - 2s 9ms/step - loss: 0.3362 - accuracy: 0.8641\n",
      "Epoch 57/100\n",
      "250/250 [==============================] - 2s 10ms/step - loss: 0.3362 - accuracy: 0.8634\n",
      "Epoch 58/100\n",
      "250/250 [==============================] - 2s 9ms/step - loss: 0.3363 - accuracy: 0.8634\n",
      "Epoch 59/100\n",
      "250/250 [==============================] - 2s 10ms/step - loss: 0.3361 - accuracy: 0.8620\n",
      "Epoch 60/100\n",
      "250/250 [==============================] - 2s 9ms/step - loss: 0.3362 - accuracy: 0.8643\n",
      "Epoch 61/100\n",
      "250/250 [==============================] - 2s 9ms/step - loss: 0.3360 - accuracy: 0.8635\n",
      "Epoch 62/100\n",
      "250/250 [==============================] - 2s 10ms/step - loss: 0.3358 - accuracy: 0.8637\n",
      "Epoch 63/100\n",
      "250/250 [==============================] - 2s 9ms/step - loss: 0.3357 - accuracy: 0.8645\n",
      "Epoch 64/100\n",
      "250/250 [==============================] - 2s 9ms/step - loss: 0.3357 - accuracy: 0.8629\n",
      "Epoch 65/100\n",
      "250/250 [==============================] - 2s 10ms/step - loss: 0.3358 - accuracy: 0.8635\n",
      "Epoch 66/100\n",
      "250/250 [==============================] - 2s 9ms/step - loss: 0.3355 - accuracy: 0.8640\n",
      "Epoch 67/100\n",
      "250/250 [==============================] - 2s 9ms/step - loss: 0.3356 - accuracy: 0.8633\n",
      "Epoch 68/100\n",
      "250/250 [==============================] - 2s 8ms/step - loss: 0.3354 - accuracy: 0.8616\n",
      "Epoch 69/100\n",
      "250/250 [==============================] - 2s 9ms/step - loss: 0.3355 - accuracy: 0.8636\n",
      "Epoch 70/100\n",
      "250/250 [==============================] - 2s 10ms/step - loss: 0.3356 - accuracy: 0.8639\n",
      "Epoch 71/100\n",
      "250/250 [==============================] - 2s 9ms/step - loss: 0.3355 - accuracy: 0.8641\n",
      "Epoch 72/100\n",
      "250/250 [==============================] - 2s 10ms/step - loss: 0.3350 - accuracy: 0.8635\n",
      "Epoch 73/100\n",
      "250/250 [==============================] - 2s 10ms/step - loss: 0.3353 - accuracy: 0.8651\n",
      "Epoch 74/100\n",
      "250/250 [==============================] - 2s 8ms/step - loss: 0.3354 - accuracy: 0.8624\n",
      "Epoch 75/100\n",
      "250/250 [==============================] - 2s 8ms/step - loss: 0.3348 - accuracy: 0.8641\n",
      "Epoch 76/100\n",
      "250/250 [==============================] - 2s 9ms/step - loss: 0.3350 - accuracy: 0.8643\n",
      "Epoch 77/100\n",
      "250/250 [==============================] - 2s 9ms/step - loss: 0.3352 - accuracy: 0.8631\n",
      "Epoch 78/100\n",
      "250/250 [==============================] - 2s 9ms/step - loss: 0.3353 - accuracy: 0.8651\n",
      "Epoch 79/100\n",
      "250/250 [==============================] - 2s 9ms/step - loss: 0.3349 - accuracy: 0.8630\n",
      "Epoch 80/100\n",
      "250/250 [==============================] - 2s 8ms/step - loss: 0.3347 - accuracy: 0.8634\n",
      "Epoch 81/100\n",
      "250/250 [==============================] - 2s 10ms/step - loss: 0.3344 - accuracy: 0.8643\n",
      "Epoch 82/100\n",
      "250/250 [==============================] - 2s 10ms/step - loss: 0.3345 - accuracy: 0.8637\n",
      "Epoch 83/100\n",
      "250/250 [==============================] - 2s 10ms/step - loss: 0.3349 - accuracy: 0.8631\n",
      "Epoch 84/100\n",
      "250/250 [==============================] - 3s 10ms/step - loss: 0.3347 - accuracy: 0.8631\n",
      "Epoch 85/100\n",
      "250/250 [==============================] - 3s 10ms/step - loss: 0.3347 - accuracy: 0.8633\n",
      "Epoch 86/100\n",
      "250/250 [==============================] - 2s 10ms/step - loss: 0.3346 - accuracy: 0.8648\n",
      "Epoch 87/100\n",
      "250/250 [==============================] - 3s 10ms/step - loss: 0.3345 - accuracy: 0.8636\n",
      "Epoch 88/100\n",
      "250/250 [==============================] - 3s 14ms/step - loss: 0.3344 - accuracy: 0.8643\n",
      "Epoch 89/100\n",
      "250/250 [==============================] - 3s 12ms/step - loss: 0.3345 - accuracy: 0.8634\n",
      "Epoch 90/100\n",
      "250/250 [==============================] - 3s 13ms/step - loss: 0.3344 - accuracy: 0.8637\n",
      "Epoch 91/100\n",
      "250/250 [==============================] - 4s 16ms/step - loss: 0.3343 - accuracy: 0.8636\n",
      "Epoch 92/100\n",
      "250/250 [==============================] - 2s 9ms/step - loss: 0.3343 - accuracy: 0.8644\n",
      "Epoch 93/100\n",
      "250/250 [==============================] - 2s 9ms/step - loss: 0.3350 - accuracy: 0.8624\n",
      "Epoch 94/100\n",
      "250/250 [==============================] - 2s 9ms/step - loss: 0.3341 - accuracy: 0.8639\n",
      "Epoch 95/100\n",
      "250/250 [==============================] - 2s 9ms/step - loss: 0.3340 - accuracy: 0.8645\n",
      "Epoch 96/100\n",
      "250/250 [==============================] - 2s 9ms/step - loss: 0.3345 - accuracy: 0.8644\n",
      "Epoch 97/100\n",
      "250/250 [==============================] - 2s 9ms/step - loss: 0.3342 - accuracy: 0.8644\n",
      "Epoch 98/100\n",
      "250/250 [==============================] - 2s 9ms/step - loss: 0.3339 - accuracy: 0.8648\n",
      "Epoch 99/100\n",
      "250/250 [==============================] - 2s 9ms/step - loss: 0.3344 - accuracy: 0.8631\n",
      "Epoch 100/100\n",
      "250/250 [==============================] - 2s 9ms/step - loss: 0.3337 - accuracy: 0.8650\n"
     ]
    },
    {
     "data": {
      "text/plain": [
       "<keras.callbacks.History at 0x1ba7e21d6f0>"
      ]
     },
     "execution_count": 16,
     "metadata": {},
     "output_type": "execute_result"
    }
   ],
   "source": [
    "neural_network.fit(X_train, y_train, batch_size = 32, epochs = 100)"
   ]
  },
  {
   "cell_type": "markdown",
   "id": "ec592e18",
   "metadata": {},
   "source": [
    "## <center>Part IV - Making the predictions and evaluating the model</center>"
   ]
  },
  {
   "cell_type": "markdown",
   "id": "db70bb33",
   "metadata": {},
   "source": [
    "Use the model to predict if the customer with the following informations will leave the bank: \n",
    "\n",
    "+ **Geography**: France\n",
    "+ **Credit Score**: 600\n",
    "+ **Gender**: Male\n",
    "+ **Age**: 40 years old\n",
    "+ **Tenure**: 3 years\n",
    "+ **Balance**: US \\$60000\n",
    "+ **Number of Products**: 2\n",
    "+ **Does this customer have a credit card?** Yes\n",
    "+ **Is this customer an Active Member**: Yes\n",
    "+ **Estimated Salary**: US \\$50000\n",
    "\n",
    "So, should we say goodbye to that customer?"
   ]
  },
  {
   "cell_type": "code",
   "execution_count": 17,
   "id": "751f3401",
   "metadata": {},
   "outputs": [
    {
     "name": "stdout",
     "output_type": "stream",
     "text": [
      "1/1 [==============================] - 1s 678ms/step\n",
      "Customer stays\n"
     ]
    }
   ],
   "source": [
    "outcome = neural_network.predict(\n",
    "    sc.transform([[1, 0, 0, 600, 1, 40, 3, 60000, 2, 1, 1, 50000]]))\n",
    "\n",
    "if outcome < 0.5:\n",
    "    print(\"Customer stays\")\n",
    "else:\n",
    "    print(\"Customer leaves\")"
   ]
  },
  {
   "cell_type": "markdown",
   "id": "2ed83461",
   "metadata": {},
   "source": [
    "Therefore, the model predicts that this customer stays in the bank!\n",
    "\n",
    "**Notes:**\n",
    "1. Notice that the values of the features were all input in a double pair of square brackets. That's because the `predict` method always expects a 2D array as the format of its inputs. And putting our values into a double pair of square brackets makes the input exactly a 2D array.\n",
    "\n",
    "2. Notice also that the `France` country was not inputted as a string in the last column but as `1, 0, 0`. That's because `predict` method expects the one-hot-encoded values of the state. We see that `France` is encoded as `1, 0, 0` in the first row of the matrix of features X. Take care to include these values in the first three columns, as the dummy variables are always created in the first columns."
   ]
  },
  {
   "cell_type": "markdown",
   "id": "ca5c5bf3",
   "metadata": {},
   "source": [
    "### <center>Predicting the test dataset results</center>"
   ]
  },
  {
   "cell_type": "code",
   "execution_count": 18,
   "id": "0a22c127",
   "metadata": {},
   "outputs": [
    {
     "name": "stdout",
     "output_type": "stream",
     "text": [
      "63/63 [==============================] - 1s 8ms/step\n",
      "[[0 0]\n",
      " [0 1]\n",
      " [0 0]\n",
      " ...\n",
      " [0 0]\n",
      " [0 0]\n",
      " [0 0]]\n"
     ]
    }
   ],
   "source": [
    "y_pred = neural_network.predict(X_test)\n",
    "y_pred = (y_pred > 0.5)\n",
    "print(np.concatenate((y_pred.reshape(len(y_pred),1),\n",
    "                      y_test.reshape(len(y_test),1)),1))"
   ]
  },
  {
   "cell_type": "markdown",
   "id": "ae97d27e",
   "metadata": {},
   "source": [
    "### <center>Making the confusion matrix</center>"
   ]
  },
  {
   "cell_type": "code",
   "execution_count": 19,
   "id": "35aef817",
   "metadata": {},
   "outputs": [
    {
     "name": "stdout",
     "output_type": "stream",
     "text": [
      "[[1538   57]\n",
      " [ 212  193]]\n"
     ]
    },
    {
     "data": {
      "text/plain": [
       "0.8655"
      ]
     },
     "execution_count": 19,
     "metadata": {},
     "output_type": "execute_result"
    }
   ],
   "source": [
    "from sklearn.metrics import confusion_matrix, accuracy_score\n",
    "\n",
    "cm = confusion_matrix(y_test, y_pred)\n",
    "print(cm)\n",
    "accuracy_score(y_test, y_pred)"
   ]
  },
  {
   "cell_type": "markdown",
   "id": "807e709c",
   "metadata": {},
   "source": [
    "### <center>Saving the neural network for future use</center>"
   ]
  },
  {
   "cell_type": "code",
   "execution_count": 20,
   "id": "4fd099e2",
   "metadata": {},
   "outputs": [],
   "source": [
    "neural_network.save(\"neural_network.h5\")"
   ]
  }
 ],
 "metadata": {
  "kernelspec": {
   "display_name": "Python 3 (ipykernel)",
   "language": "python",
   "name": "python3"
  },
  "language_info": {
   "codemirror_mode": {
    "name": "ipython",
    "version": 3
   },
   "file_extension": ".py",
   "mimetype": "text/x-python",
   "name": "python",
   "nbconvert_exporter": "python",
   "pygments_lexer": "ipython3",
   "version": "3.10.4"
  }
 },
 "nbformat": 4,
 "nbformat_minor": 5
}
