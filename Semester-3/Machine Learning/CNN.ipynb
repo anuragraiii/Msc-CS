{
 "cells": [
  {
   "cell_type": "markdown",
   "id": "3b590640",
   "metadata": {},
   "source": [
    "# <center>Convolutional Neural Network</center>\n",
    "\n",
    "---\n",
    "\n",
    "> A convolutional neural network (CNN or ConvNet), is a network architecture for deep learning which learns directly from data, eliminating the need for manual feature extraction.\n",
    "> CNNs are particularly useful for finding patterns in images to recognize objects, faces, and scenes. They can also be quite effective for classifying non-image data such as audio, time series, and signal data.\n",
    "> Applications that call for object recognition and computer vision — such as self-driving vehicles and face-recognition applications — rely heavily on CNNs. - [MathWorks](https://www.mathworks.com/discovery/convolutional-neural-network-matlab.html)\n"
   ]
  },
  {
   "cell_type": "markdown",
   "id": "3997351a",
   "metadata": {},
   "source": [
    "## <center>Import required libraries</center>"
   ]
  },
  {
   "cell_type": "code",
   "execution_count": 1,
   "id": "b415d0af",
   "metadata": {},
   "outputs": [],
   "source": [
    "import tensorflow as tf\n",
    "import tensorflow.keras as keras"
   ]
  },
  {
   "cell_type": "markdown",
   "id": "85e9e09e",
   "metadata": {},
   "source": [
    "### <center>Check tensorflow version</center>"
   ]
  },
  {
   "cell_type": "code",
   "execution_count": 2,
   "id": "1cb04d9d",
   "metadata": {},
   "outputs": [
    {
     "name": "stdout",
     "output_type": "stream",
     "text": [
      "2.9.1\n"
     ]
    }
   ],
   "source": [
    "print(tf.__version__)"
   ]
  },
  {
   "cell_type": "markdown",
   "id": "70b25547",
   "metadata": {},
   "source": [
    "## <center>Step I: Data preprocessing</center>"
   ]
  },
  {
   "cell_type": "markdown",
   "id": "c7068b39",
   "metadata": {},
   "source": [
    "### <center>Preprocessing the training set</center>"
   ]
  },
  {
   "cell_type": "code",
   "execution_count": 3,
   "id": "7e983894",
   "metadata": {},
   "outputs": [
    {
     "name": "stdout",
     "output_type": "stream",
     "text": [
      "Found 10 images belonging to 2 classes.\n"
     ]
    }
   ],
   "source": [
    "train_datagen = keras.preprocessing.image.ImageDataGenerator(rescale = 1./255, \n",
    "                                                            shear_range = 0.2,\n",
    "                                                            zoom_range = 0.2,\n",
    "                                                            horizontal_flip = True)\n",
    "\n",
    "train_dataset = train_datagen.flow_from_directory('datasets/small_dataset/training_set',\n",
    "                                                 target_size = (64, 64),\n",
    "                                                 batch_size = 32,\n",
    "                                                 class_mode = 'binary')"
   ]
  },
  {
   "cell_type": "markdown",
   "id": "8a01a542",
   "metadata": {},
   "source": [
    "### <center>Preprocessing the testing set</center>"
   ]
  },
  {
   "cell_type": "code",
   "execution_count": 4,
   "id": "cabb2076",
   "metadata": {},
   "outputs": [
    {
     "name": "stdout",
     "output_type": "stream",
     "text": [
      "Found 10 images belonging to 2 classes.\n"
     ]
    }
   ],
   "source": [
    "test_datagen = keras.preprocessing.image.ImageDataGenerator(rescale = 1./255)\n",
    "\n",
    "test_dataset = test_datagen.flow_from_directory('datasets/small_dataset/test_set',\n",
    "                                               target_size = (64, 64),\n",
    "                                               batch_size = 32,\n",
    "                                               class_mode = 'binary')"
   ]
  },
  {
   "cell_type": "markdown",
   "id": "21fa0d48",
   "metadata": {},
   "source": [
    "## <center>Part II: Building the Convolutional Neural Network</center>"
   ]
  },
  {
   "cell_type": "markdown",
   "id": "cdf58371",
   "metadata": {},
   "source": [
    "### <center>Initializing the <abbr title = \"Convolutional Neural Network\">CNN</abbr></center>"
   ]
  },
  {
   "cell_type": "code",
   "execution_count": 5,
   "id": "bb623ac4",
   "metadata": {},
   "outputs": [],
   "source": [
    "cov_net = keras.models.Sequential() "
   ]
  },
  {
   "cell_type": "markdown",
   "id": "52cf54f6",
   "metadata": {},
   "source": [
    "### <center>Step I: Convolution</center>"
   ]
  },
  {
   "cell_type": "code",
   "execution_count": 6,
   "id": "89da6632",
   "metadata": {},
   "outputs": [],
   "source": [
    "cov_net.add(keras.layers.Conv2D(filters = 32, kernel_size = 3, activation = \"relu\", input_shape = [64, 64, 3]))"
   ]
  },
  {
   "cell_type": "markdown",
   "id": "f8a10198",
   "metadata": {},
   "source": [
    "### <center>Step II: Pooling</center>"
   ]
  },
  {
   "cell_type": "code",
   "execution_count": 7,
   "id": "4303ad1b",
   "metadata": {},
   "outputs": [],
   "source": [
    "cov_net.add(keras.layers.MaxPool2D(pool_size = 2, strides = 2))"
   ]
  },
  {
   "cell_type": "markdown",
   "id": "5025f2aa",
   "metadata": {},
   "source": [
    "#### <center>Add a second convolution and pooling layer</center>"
   ]
  },
  {
   "cell_type": "code",
   "execution_count": 8,
   "id": "49691a6b",
   "metadata": {},
   "outputs": [],
   "source": [
    "cov_net.add(keras.layers.Conv2D(filters = 32, kernel_size = 3, activation = \"relu\"))\n",
    "cov_net.add(keras.layers.MaxPool2D(pool_size = 2, strides = 2))"
   ]
  },
  {
   "cell_type": "markdown",
   "id": "1c241583",
   "metadata": {},
   "source": [
    "### <center>Step III: Flattening</center>"
   ]
  },
  {
   "cell_type": "code",
   "execution_count": 9,
   "id": "9791a331",
   "metadata": {},
   "outputs": [],
   "source": [
    "cov_net.add(keras.layers.Flatten())"
   ]
  },
  {
   "cell_type": "markdown",
   "id": "b168d911",
   "metadata": {},
   "source": [
    "### <center>Step IV: Full Connection</center>"
   ]
  },
  {
   "cell_type": "code",
   "execution_count": 10,
   "id": "139a26d8",
   "metadata": {},
   "outputs": [],
   "source": [
    "cov_net.add(keras.layers.Dense(units = 128, activation = \"relu\"))"
   ]
  },
  {
   "cell_type": "markdown",
   "id": "f2817552",
   "metadata": {},
   "source": [
    "### <center>Step V: Output layer</center>"
   ]
  },
  {
   "cell_type": "code",
   "execution_count": 11,
   "id": "37cc21c3",
   "metadata": {},
   "outputs": [],
   "source": [
    "cov_net.add(keras.layers.Dense(units = 1, activation = \"sigmoid\"))"
   ]
  },
  {
   "cell_type": "markdown",
   "id": "78c50142",
   "metadata": {},
   "source": [
    "## <center>Part III: Training the <abbr title = \"Convolutional Neural Network\">CNN</abbr></center>"
   ]
  },
  {
   "cell_type": "markdown",
   "id": "5fe787bd",
   "metadata": {},
   "source": [
    "### <center>Compiling the <abbr title = \"Convolutional Neural Network\">CNN</abbr></center>"
   ]
  },
  {
   "cell_type": "code",
   "execution_count": 12,
   "id": "f76bf259",
   "metadata": {},
   "outputs": [],
   "source": [
    "cov_net.compile(optimizer = \"adam\", loss = \"binary_crossentropy\", metrics = [\"accuracy\"])"
   ]
  },
  {
   "cell_type": "markdown",
   "id": "d9157453",
   "metadata": {},
   "source": [
    "### <center>Training and testing the <abbr title = \"Convolutional Neural Network\">CNN</abbr></center>"
   ]
  },
  {
   "cell_type": "code",
   "execution_count": 13,
   "id": "40cb0543",
   "metadata": {},
   "outputs": [
    {
     "name": "stdout",
     "output_type": "stream",
     "text": [
      "Epoch 1/50\n",
      "1/1 [==============================] - 5s 5s/step - loss: 0.6948 - accuracy: 0.5000 - val_loss: 1.1321 - val_accuracy: 0.5000\n",
      "Epoch 2/50\n",
      "1/1 [==============================] - 1s 870ms/step - loss: 1.1216 - accuracy: 0.5000 - val_loss: 0.7263 - val_accuracy: 0.5000\n",
      "Epoch 3/50\n",
      "1/1 [==============================] - 1s 639ms/step - loss: 0.6449 - accuracy: 0.7000 - val_loss: 0.7728 - val_accuracy: 0.5000\n",
      "Epoch 4/50\n",
      "1/1 [==============================] - 1s 634ms/step - loss: 0.7410 - accuracy: 0.5000 - val_loss: 0.7719 - val_accuracy: 0.5000\n",
      "Epoch 5/50\n",
      "1/1 [==============================] - 1s 639ms/step - loss: 0.7440 - accuracy: 0.5000 - val_loss: 0.7411 - val_accuracy: 0.5000\n",
      "Epoch 6/50\n",
      "1/1 [==============================] - 1s 649ms/step - loss: 0.7160 - accuracy: 0.5000 - val_loss: 0.7175 - val_accuracy: 0.5000\n",
      "Epoch 7/50\n",
      "1/1 [==============================] - 1s 615ms/step - loss: 0.6817 - accuracy: 0.5000 - val_loss: 0.7071 - val_accuracy: 0.5000\n",
      "Epoch 8/50\n",
      "1/1 [==============================] - 1s 636ms/step - loss: 0.6719 - accuracy: 0.5000 - val_loss: 0.7029 - val_accuracy: 0.3000\n",
      "Epoch 9/50\n",
      "1/1 [==============================] - 1s 624ms/step - loss: 0.6627 - accuracy: 0.9000 - val_loss: 0.7016 - val_accuracy: 0.4000\n",
      "Epoch 10/50\n",
      "1/1 [==============================] - 1s 649ms/step - loss: 0.6605 - accuracy: 0.9000 - val_loss: 0.7019 - val_accuracy: 0.6000\n",
      "Epoch 11/50\n",
      "1/1 [==============================] - 1s 632ms/step - loss: 0.6638 - accuracy: 0.7000 - val_loss: 0.7042 - val_accuracy: 0.5000\n",
      "Epoch 12/50\n",
      "1/1 [==============================] - 1s 694ms/step - loss: 0.6610 - accuracy: 0.6000 - val_loss: 0.7074 - val_accuracy: 0.5000\n",
      "Epoch 13/50\n",
      "1/1 [==============================] - 1s 700ms/step - loss: 0.6529 - accuracy: 0.7000 - val_loss: 0.7079 - val_accuracy: 0.5000\n",
      "Epoch 14/50\n",
      "1/1 [==============================] - 1s 671ms/step - loss: 0.6451 - accuracy: 0.7000 - val_loss: 0.7080 - val_accuracy: 0.5000\n",
      "Epoch 15/50\n",
      "1/1 [==============================] - 1s 624ms/step - loss: 0.6438 - accuracy: 0.7000 - val_loss: 0.7075 - val_accuracy: 0.4000\n",
      "Epoch 16/50\n",
      "1/1 [==============================] - 1s 649ms/step - loss: 0.6190 - accuracy: 0.8000 - val_loss: 0.7077 - val_accuracy: 0.4000\n",
      "Epoch 17/50\n",
      "1/1 [==============================] - 1s 629ms/step - loss: 0.6084 - accuracy: 0.9000 - val_loss: 0.7102 - val_accuracy: 0.4000\n",
      "Epoch 18/50\n",
      "1/1 [==============================] - 1s 622ms/step - loss: 0.5982 - accuracy: 0.9000 - val_loss: 0.7177 - val_accuracy: 0.5000\n",
      "Epoch 19/50\n",
      "1/1 [==============================] - 1s 660ms/step - loss: 0.5663 - accuracy: 1.0000 - val_loss: 0.7259 - val_accuracy: 0.5000\n",
      "Epoch 20/50\n",
      "1/1 [==============================] - 1s 696ms/step - loss: 0.5610 - accuracy: 0.9000 - val_loss: 0.7306 - val_accuracy: 0.7000\n",
      "Epoch 21/50\n",
      "1/1 [==============================] - 1s 614ms/step - loss: 0.5333 - accuracy: 1.0000 - val_loss: 0.7336 - val_accuracy: 0.4000\n",
      "Epoch 22/50\n",
      "1/1 [==============================] - 1s 630ms/step - loss: 0.5270 - accuracy: 0.9000 - val_loss: 0.7451 - val_accuracy: 0.4000\n",
      "Epoch 23/50\n",
      "1/1 [==============================] - 1s 669ms/step - loss: 0.4943 - accuracy: 0.8000 - val_loss: 0.7574 - val_accuracy: 0.4000\n",
      "Epoch 24/50\n",
      "1/1 [==============================] - 1s 633ms/step - loss: 0.4575 - accuracy: 0.9000 - val_loss: 0.7766 - val_accuracy: 0.4000\n",
      "Epoch 25/50\n",
      "1/1 [==============================] - 1s 593ms/step - loss: 0.4064 - accuracy: 1.0000 - val_loss: 0.8033 - val_accuracy: 0.5000\n",
      "Epoch 26/50\n",
      "1/1 [==============================] - 1s 764ms/step - loss: 0.3984 - accuracy: 0.9000 - val_loss: 0.8165 - val_accuracy: 0.4000\n",
      "Epoch 27/50\n",
      "1/1 [==============================] - 1s 618ms/step - loss: 0.3868 - accuracy: 0.9000 - val_loss: 0.8395 - val_accuracy: 0.4000\n",
      "Epoch 28/50\n",
      "1/1 [==============================] - 1s 613ms/step - loss: 0.3096 - accuracy: 0.9000 - val_loss: 0.8740 - val_accuracy: 0.4000\n",
      "Epoch 29/50\n",
      "1/1 [==============================] - 1s 638ms/step - loss: 0.3141 - accuracy: 0.9000 - val_loss: 0.8984 - val_accuracy: 0.4000\n",
      "Epoch 30/50\n",
      "1/1 [==============================] - 1s 622ms/step - loss: 0.2451 - accuracy: 1.0000 - val_loss: 0.9480 - val_accuracy: 0.4000\n",
      "Epoch 31/50\n",
      "1/1 [==============================] - 1s 602ms/step - loss: 0.2895 - accuracy: 0.9000 - val_loss: 1.1029 - val_accuracy: 0.6000\n",
      "Epoch 32/50\n",
      "1/1 [==============================] - 1s 634ms/step - loss: 0.2994 - accuracy: 0.9000 - val_loss: 1.0342 - val_accuracy: 0.4000\n",
      "Epoch 33/50\n",
      "1/1 [==============================] - 1s 646ms/step - loss: 0.2126 - accuracy: 0.9000 - val_loss: 1.0850 - val_accuracy: 0.3000\n",
      "Epoch 34/50\n",
      "1/1 [==============================] - 1s 611ms/step - loss: 0.3738 - accuracy: 0.9000 - val_loss: 1.1462 - val_accuracy: 0.5000\n",
      "Epoch 35/50\n",
      "1/1 [==============================] - 1s 633ms/step - loss: 0.1615 - accuracy: 1.0000 - val_loss: 1.2093 - val_accuracy: 0.4000\n",
      "Epoch 36/50\n",
      "1/1 [==============================] - 1s 708ms/step - loss: 0.2981 - accuracy: 0.9000 - val_loss: 1.1605 - val_accuracy: 0.4000\n",
      "Epoch 37/50\n",
      "1/1 [==============================] - 1s 617ms/step - loss: 0.2262 - accuracy: 0.9000 - val_loss: 1.1757 - val_accuracy: 0.4000\n",
      "Epoch 38/50\n",
      "1/1 [==============================] - 1s 658ms/step - loss: 0.2358 - accuracy: 0.9000 - val_loss: 1.2022 - val_accuracy: 0.4000\n",
      "Epoch 39/50\n",
      "1/1 [==============================] - 1s 653ms/step - loss: 0.2175 - accuracy: 0.9000 - val_loss: 1.3230 - val_accuracy: 0.4000\n",
      "Epoch 40/50\n",
      "1/1 [==============================] - 1s 602ms/step - loss: 0.1954 - accuracy: 1.0000 - val_loss: 1.2472 - val_accuracy: 0.4000\n",
      "Epoch 41/50\n",
      "1/1 [==============================] - 1s 668ms/step - loss: 0.1321 - accuracy: 1.0000 - val_loss: 1.3119 - val_accuracy: 0.2000\n",
      "Epoch 42/50\n",
      "1/1 [==============================] - 1s 655ms/step - loss: 0.1418 - accuracy: 0.9000 - val_loss: 1.3141 - val_accuracy: 0.2000\n",
      "Epoch 43/50\n",
      "1/1 [==============================] - 1s 629ms/step - loss: 0.1523 - accuracy: 0.9000 - val_loss: 1.3585 - val_accuracy: 0.4000\n",
      "Epoch 44/50\n",
      "1/1 [==============================] - 1s 672ms/step - loss: 0.1251 - accuracy: 1.0000 - val_loss: 1.4580 - val_accuracy: 0.4000\n",
      "Epoch 45/50\n",
      "1/1 [==============================] - 1s 650ms/step - loss: 0.1456 - accuracy: 1.0000 - val_loss: 1.3890 - val_accuracy: 0.3000\n",
      "Epoch 46/50\n",
      "1/1 [==============================] - 1s 653ms/step - loss: 0.0747 - accuracy: 1.0000 - val_loss: 1.5318 - val_accuracy: 0.3000\n",
      "Epoch 47/50\n",
      "1/1 [==============================] - 1s 650ms/step - loss: 0.0842 - accuracy: 1.0000 - val_loss: 1.6268 - val_accuracy: 0.3000\n",
      "Epoch 48/50\n",
      "1/1 [==============================] - 1s 640ms/step - loss: 0.0834 - accuracy: 1.0000 - val_loss: 1.5417 - val_accuracy: 0.3000\n",
      "Epoch 49/50\n",
      "1/1 [==============================] - 1s 673ms/step - loss: 0.0654 - accuracy: 1.0000 - val_loss: 1.4854 - val_accuracy: 0.4000\n",
      "Epoch 50/50\n",
      "1/1 [==============================] - 1s 650ms/step - loss: 0.0660 - accuracy: 1.0000 - val_loss: 1.6303 - val_accuracy: 0.4000\n"
     ]
    },
    {
     "data": {
      "text/plain": [
       "<keras.callbacks.History at 0x2180eada5c0>"
      ]
     },
     "execution_count": 13,
     "metadata": {},
     "output_type": "execute_result"
    }
   ],
   "source": [
    "cov_net.fit(x = train_dataset, validation_data = test_dataset, epochs = 50)"
   ]
  },
  {
   "cell_type": "markdown",
   "id": "fd1c4de5",
   "metadata": {},
   "source": [
    "## <center>Step IV: Making predictions</center>"
   ]
  },
  {
   "cell_type": "code",
   "execution_count": 14,
   "id": "5d59af32",
   "metadata": {},
   "outputs": [
    {
     "name": "stdout",
     "output_type": "stream",
     "text": [
      "1/1 [==============================] - 0s 433ms/step\n",
      "dog\n"
     ]
    },
    {
     "data": {
      "image/png": "[encoded data removed]",
      "text/plain": [
       "<Figure size 432x288 with 1 Axes>"
      ]
     },
     "metadata": {
      "needs_background": "light"
     },
     "output_type": "display_data"
    }
   ],
   "source": [
    "import matplotlib.pyplot as plt\n",
    "import numpy as np\n",
    "\n",
    "test_image = keras.preprocessing.image.load_img('datasets/small_dataset/single_prediction/cat_or_dog_1.jpg', target_size = (64, 64))\n",
    "test_image_copy = test_image\n",
    "test_image = keras.preprocessing.image.img_to_array(test_image)\n",
    "test_image = np.expand_dims(test_image, axis = 0)\n",
    "result = cov_net.predict(test_image)\n",
    "\n",
    "prediction = \"dog\" if result[0][0] == 1 else \"cat\"\n",
    "plt.imshow(np.asarray(test_image_copy))\n",
    "print(prediction)"
   ]
  },
  {
   "cell_type": "code",
   "execution_count": null,
   "id": "9f641254",
   "metadata": {},
   "outputs": [],
   "source": []
  }
 ],
 "metadata": {
  "kernelspec": {
   "display_name": "Python 3 (ipykernel)",
   "language": "python",
   "name": "python3"
  },
  "language_info": {
   "codemirror_mode": {
    "name": "ipython",
    "version": 3
   },
   "file_extension": ".py",
   "mimetype": "text/x-python",
   "name": "python",
   "nbconvert_exporter": "python",
   "pygments_lexer": "ipython3",
   "version": "3.10.4"
  }
 },
 "nbformat": 4,
 "nbformat_minor": 5
}
